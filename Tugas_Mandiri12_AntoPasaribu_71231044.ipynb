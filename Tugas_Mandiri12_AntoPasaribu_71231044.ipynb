{
 "cells": [
  {
   "cell_type": "code",
   "execution_count": null,
   "id": "fa28a9be",
   "metadata": {},
   "outputs": [],
   "source": [
    "category = int(input('Masukan jumlah kategori: '))\n",
    "data_app = {}\n",
    "\n",
    "for i in range(category):\n",
    "    category_name = input('Masukan nama kategori: ')\n",
    "    print('Masukan 5 nama aplikasi dikategori', category_name)\n",
    "    aplication = list()\n",
    "    \n",
    "    for j in range(5):\n",
    "        app_name = input('Masukan nama aplikasi: ')\n",
    "        aplication.append(app_name)\n",
    "    data_app[category_name] = aplication\n",
    "print(data_app)\n",
    "print()\n",
    "\n",
    "list_app = list()\n",
    "for aplication in data_app.values():\n",
    "    list_app.append(set(aplication))\n",
    "print(list_app)\n",
    "print()\n",
    "\n",
    "result = list_app\n",
    "for x in range(1, category):\n",
    "    unique = list_app[i] ^ list_app[i - 1]\n",
    "else:\n",
    "    unique = list_app[0] ^ list_app[i]\n",
    "print()\n",
    "print('Aplikasi yang hanya muncul di satu kategori saja: ', unique)\n",
    "\n",
    "print()\n",
    "if category > 2:\n",
    "    for z in range(1, category):\n",
    "        iner = list_app[i] and list_app[i -1]\n",
    "    else:\n",
    "        iner = list_app[0] and list_app[i]\n",
    "    print('Aplikasi yang muncul di dua kategori sekaligus', iner)"
   ]
  },
  {
   "cell_type": "code",
   "execution_count": null,
   "id": "8ccfc483",
   "metadata": {},
   "outputs": [],
   "source": [
    "list_data = [1, 2, 3, 4]\n",
    "set_data = {4, 5, 6, 7}\n",
    "tuple_data = (7, 8, 9, 10)\n",
    "\n",
    "list_to_set = set(list_data)\n",
    "set_to_list = list(set_data)\n",
    "tuple_to_set = set(tuple_data)\n",
    "set_to_tuple = tuple(set_data)\n",
    "\n",
    "print('--Data Awal--')\n",
    "print('List: ', list_data)\n",
    "print('Set: ', set_data)\n",
    "print('Tuple: ', tuple_data)\n",
    "\n",
    "print('\\n--Setelah konversi-- ')\n",
    "print('List -> Set: ', list_to_set)\n",
    "print('Set -> List: ', set_to_list)\n",
    "print('Tuple -> Set: ', tuple_to_set)\n",
    "print('Set -> Tuple: ', set_to_tuple)"
   ]
  },
  {
   "cell_type": "code",
   "execution_count": null,
   "id": "71fef72a",
   "metadata": {},
   "outputs": [],
   "source": [
    "file1 = input('Masukan nama file pertama: ')\n",
    "file2 = input('Masukan nama file kedua: ')\n",
    "try:\n",
    "    handle1 = open(file1, 'r')\n",
    "    handle2 = open(file2, 'r')\n",
    "except:\n",
    "    print('THE FILE COULD NOT BE OPENED!')\n",
    "    exit()\n",
    "    \n",
    "a = set()\n",
    "for text in handle1:\n",
    "    low_text = text.lower()\n",
    "    split_text = low_text.split()\n",
    "    for b in split_text:\n",
    "        a.add(b)\n",
    "        \n",
    "for text in handle2:\n",
    "    low_text = text.lower()\n",
    "    split_text = low_text.split()\n",
    "    for b in split_text:\n",
    "        a.add(b)\n",
    "print(a)"
   ]
  }
 ],
 "metadata": {
  "kernelspec": {
   "display_name": "Python 3 (ipykernel)",
   "language": "python",
   "name": "python3"
  },
  "language_info": {
   "codemirror_mode": {
    "name": "ipython",
    "version": 3
   },
   "file_extension": ".py",
   "mimetype": "text/x-python",
   "name": "python",
   "nbconvert_exporter": "python",
   "pygments_lexer": "ipython3",
   "version": "3.11.5"
  }
 },
 "nbformat": 4,
 "nbformat_minor": 5
}
